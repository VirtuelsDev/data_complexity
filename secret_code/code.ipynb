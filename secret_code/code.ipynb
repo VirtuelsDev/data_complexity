{
 "cells": [
  {
   "cell_type": "markdown",
   "metadata": {},
   "source": [
    "# CODE1 - Secret Code"
   ]
  },
  {
   "cell_type": "markdown",
   "metadata": {
    "notebookRunGroups": {
     "groupValue": ""
    }
   },
   "source": [
    "## Description du probleme\n",
    "Un sarcophage est verrouillé par un ```code``` numérique secret. Quand quelqu'un veut l'ouvrir, il doit connaître le ```code``` et le placer exactement sur le dessus du sarcophage. \n",
    "Un mécanisme très complexe ouvrira ensuite le couvercle. Si un ```code``` incorrect est saisi, les tickets à l'intérieur prendront feu immédiatement et seront perdus à jamais. \n",
    "Le ```code``` était caché dans la bibliothèque d'Alexandrie, mais malheureusement, comme vous le savez probablement, la bibliothèque a brûlé complètement.\n",
    "\n",
    "Mais un archéologue presque inconnu a obtenu une copie du ```code``` au cours du 18e siècle. \n",
    "Il craignait que le ```code``` puisse tomber entre de \"mauvaises mains\", alors il a encodé les chiffres d'une manière très spéciale. \n",
    "Il a pris un nombre complexe aléatoire $B$ qui était plus grand (en module ou valeur absolue) que tous les chiffres codés. Ensuite, il a compté les chiffres comme les chiffres du système ayant pour base $B$. Cela signifie que la séquence de chiffres $a_n, a_{n-1}, ..., a_1, a_0$ a été encodée comme le nombre $ X = a_0 + a_1B + a_2B^2 + ... + a_nB^n$.\n",
    "\n",
    "Votre objectif est de décrypter le ```code``` secret, c'est-à-dire d'exprimer un nombre donné $X$ dans le système numérique ayant pour base $B$. En d'autres termes, étant donné les nombres $X \\text{ et } B$, vous devez déterminer les chiffres $a_0$ à $a_n$.\n",
    "\n",
    "### Entrée\n",
    "L'entrée est composée de $T$ cas de test (environ 100 000). Le nombre de cas $(T)$ est donné sur la première ligne du fichier d'entrée. \n",
    "Chaque cas de test est constitué d'une seule ligne contenant quatre nombres entiers $X_r, X_i, B^r, B^i \\quad\\text{avec}\\quad |X_r|,|X_i| \\leq 1 000 000,\\quad |B^r|,|B^i| \\leq 16$. Ces nombres indiquent les composantes réelle et complexe des nombres $X \\text{ et } B$, c'est-à-dire $X = X_r + i.X_i \\quad\\text{et}\\quad B = B^r + i.B^i$. $B$ est la base du système $(|B| > 1)$, $X$ est le nombre que vous devez exprimer.\n",
    "\n",
    "### Sortie\n",
    "Votre programme doit afficher une seule ligne pour chaque cas de test. La ligne doit contenir les chiffres $a_0, a_1, ..., a_n$ séparés par des virgules. Les conditions suivantes doivent être satisfaites :\n",
    "\n",
    "* Pour tout $(k)$ dans l'ensemble $\\{0, 1, 2, \\ldots, n\\}$ :\n",
    "* $[0 \\leq a_k < |B|]$\n",
    "\n",
    "* $(X = a_0 + a_1B + a_2B^2 + \\ldots + a_nB^n)$\n",
    "\n",
    "* Si $(n > 0)$, alors $(a_n \\neq 0)$\n",
    "\n",
    "* $(n \\leq 100)$\n",
    "\n",
    "Si aucun nombre ne satisfait ces critères, affichez la phrase:\n",
    "```\n",
    "print(Le code ne peut pas être décrypté.)\n",
    "\"Le code ne peut pas être décrypté.\"\n",
    "``` \n",
    "S'il y a plusieurs possibilités, affichez l'une d'entre elles.\n",
    "\n",
    "* Exemple :Entrée d'exemple"
   ]
  },
  {
   "cell_type": "markdown",
   "metadata": {
    "notebookRunGroups": {
     "groupValue": ""
    }
   },
   "source": [
    "## Décryptage du Code étape par étape :\n",
    "### Étape 1: Analyse du problème\n",
    "\n",
    "1. **Input (Entrée)** :\n",
    "   - Le nombre total de cas de test T est donné sur la première ligne de l'entrée.\n",
    "   - Chaque cas de test est constitué de quatre nombres entiers $X_r, X_i, B^r et B^i$, représentant les parties réelles et imaginaires des nombres $X$ et $B$. $X = X_r + i.X_i$ et $B = B^r + i.B^i$.\n",
    "   - $|Xr|, |Xi|, |Br|, |Bi|$ sont tous comprit entre $-1 000 000 \\, \\text{et}\\, 1 000 000$, et $|B|$ est supérieur à 1.\n",
    "   - Le nombre d'entiers dans le code (n) peut aller jusqu'à 100 (n ≤ 100).\n",
    "\n",
    "2. **Problème** :\n",
    "   - Le sarcophage est verrouillé par un code numérique secret. Nous devons décrypter le code pour ouvrir le sarcophage.\n",
    "   - Le code a été encodé en utilisant les chiffres du système avec la base $B$. Le nombre complexe $B$ est supérieur en valeur absolue à tous les chiffres du code.\n",
    "   - Le code $(X)$ doit être exprimé dans le système numérique ayant pour base $B$, c'est-à-dire $X = a_0 + a_1B + a_2B^2 + ... + a_nB^n$.\n",
    "   - Nous devons trouver les chiffres $a_0$ à $a_n$.\n",
    "\n",
    "3. **Output (Sortie)** :\n",
    "   - Pour chaque cas de test, nous devons afficher une seule ligne contenant les chiffres $a_0, a_1, ..., a_n$ séparés par des virgules.\n",
    "   - Les conditions suivantes doivent être satisfaites :\n",
    "     - $0 ≤ a_i < |B| \\text{ pour tout } i \\text{ dans } {0, 1, 2, ..., n}$.\n",
    "     - $X = a_0 + a_1B + a_2B^2 + ... + a_nB^n$.\n",
    "     - Si $n > 0$, alors $a_n \\neq 0$.\n",
    "\n",
    "4. **Contraintes** :\n",
    "   - Les valeurs des nombres complexes $X$ et $B$ doivent être valides (les parties réelles et imaginaires sont limitées entre $-1 000 000$ et $1 000 000$, et $|B| > 1$).\n",
    "   - Le nombre d'entiers dans le code $(n)$ peut aller jusqu'à $100 \\quad(n ≤ 100)$.\n",
    "\n",
    "5. **Scénarios** :\n",
    "   - Si le code entré est incorrect, les tickets à l'intérieur du sarcophage prendront feu et seront perdus à jamais. Nous ne pouvons pas décrypter le code.\n",
    "   - Il peut y avoir plusieurs représentations possibles du code pour un nombre $X$ donné en utilisant la base $B$.  Dans ce cas, nous pouvons afficher l'une quelconque de ces représentations.\n",
    "\n",
    "### Étape 2: Plan de décryptage du code secret\n",
    "\n",
    "1. **Fonction de décryptage** :\n",
    "   - Écrire une fonction `decrypter_code_secret(Xr, Xi, Br, Bi)` qui prend en entrée les valeurs réelles $(X_r, X_i)$ et imaginaires $(B^r, B^i)$ de $X$ et $B$.\n",
    "   - Convertir les valeurs réelles et imaginaires en nombres complexes $X$ et $B$ en utilisant la formule $X = X_r + i.X_i$ et $B = B^r + i.B^i$.\n",
    "\n",
    "2. **Déchiffrer le code** :\n",
    "   - Dans la fonction `decrypter_code_secret`, initialiser une liste vide `digits` pour stocker les chiffres du code.\n",
    "\n",
    "3. **Décryptage par chiffres** :\n",
    "   - Utiliser une boucle tant que pour itérer jusqu'à ce que la valeur absolue de $X$ soit supérieure ou égale à $1$.\n",
    "   - Dans chaque itération, calculer le chiffre courant en prenant le reste de la partie réelle de $X$ divisé par la valeur absolue de $B$. \n",
    "   - Ajouter le chiffre courant à la liste `digits`.\n",
    "   - Mettre à jour la valeur de $X$ en soustrayant le chiffre courant et en divisant le résultat par $B$. \n",
    "\n",
    "4. **Vérification des contraintes** :\n",
    "   - Après la boucle, vérifier si la valeur finale de $X$ est égale à 0. Si ce n'est pas le cas, cela signifie que les contraintes ne sont pas satisfaites, et nous ne pouvons pas décrypter le code.\n",
    "   - Sinon, procéder à l'étape suivante.\n",
    "\n",
    "5. **Formatage de la sortie** :\n",
    "   - La liste `digits` contient maintenant les chiffres du code dans l'ordre inverse.\n",
    "   - Utiliser la fonction `join` pour combiner les chiffres en une chaîne de caractères, séparés par des virgules.\n",
    "   - Renvoyer la chaîne de caractères résultante.\n",
    "\n",
    "6. **Gestion des cas impossibles** :\n",
    "   - Si le nombre d'entiers dans le code $(n)$ est supérieur à $100$, nous ne pourrons pas décrypter le code en respectant la contrainte $n ≤ 100$. Dans ce cas, renvoyer \"Le code ne peut pas être décrypté.\"\n",
    "\n",
    "### Étape 3: Implémentation du code\n",
    "Voici l'implémentation de la fonction pour décrypter le code secret en utilisant Python :\n",
    "\n",
    "Décrypte le code secret à partir des nombres complexes $X$ et $B$, et retourne le code sous forme de chaîne de chiffres.\n",
    "\n",
    "```\n",
    "    Parameters:\n",
    "        Xr (int): Partie réelle du nombre complexe X.\n",
    "        Xi (int): Partie imaginaire du nombre complexe X.\n",
    "        Br (int): Partie réelle du nombre complexe $B$. \n",
    "        Bi (int): Partie imaginaire du nombre complexe $B$. \n",
    "\n",
    "    Returns:\n",
    "        str: Le code secret décrypté sous forme de chaîne de chiffres séparés par des virgules.\n",
    "             Si le code ne peut pas être décrypté, renvoie \"Le code ne peut pas être décrypté.\"\n",
    "```"
   ]
  },
  {
   "cell_type": "code",
   "execution_count": 6,
   "metadata": {
    "notebookRunGroups": {
     "groupValue": "1"
    }
   },
   "outputs": [
    {
     "name": "stdout",
     "output_type": "stream",
     "text": [
      "Le code ne peut pas être décrypté.\n"
     ]
    }
   ],
   "source": [
    "def decrypter_code_secret(Xr, Xi, Br, Bi):\n",
    "    # Convertir les parties réelles (Xr, Br) et imaginaires (Xi, Bi) en nombres complexes (X, B)\n",
    "    X = complex(Xr, Xi)\n",
    "    B = complex(Br, Bi)\n",
    "\n",
    "    # Initialisation d'une liste vide pour stocker les chiffres du code\n",
    "    digits = []\n",
    "\n",
    "    # Déchiffrer le code en utilisant les chiffres du système avec la base B\n",
    "    while abs(X) >= 1:\n",
    "        \n",
    "        digit = int(X.real % abs(B)) # Calcul du chiffre courant en prenant Xr divisé par module B\n",
    "        digits.append(str(digit)) # Ajouter le chiffre courant à la liste 'digits'\n",
    "        X = (X - digit) / B # Mettre à jour la valeur de X en soustrayant le chiffre courant et en divisant par B\n",
    "\n",
    "    # Vérifier si les contraintes sont satisfaites en vérifiant si la valeur finale de X est égale à 0\n",
    "    if X != 0:\n",
    "        return \"Le code ne peut pas être décrypté.\"\n",
    "    \n",
    "    # Formater la sortie en combinant les chiffres en une chaîne de caractères séparés par des virgules\n",
    "    return \",\".join(reversed(digits))\n",
    "\n",
    "# Précalculer les puissances de B jusqu'à n (nombre maximum d'entiers dans le code)\n",
    "def precalculate_powers_of_B(B, n):\n",
    "   \n",
    "    powers = {0: complex(1, 0)}\n",
    "    power = B\n",
    "    for i in range(1, n + 1):\n",
    "        powers[i] = power\n",
    "        power *= B\n",
    "    return powers"
   ]
  },
  {
   "cell_type": "markdown",
   "metadata": {},
   "source": [
    "# Exemple d'utilisation"
   ]
  },
  {
   "cell_type": "code",
   "execution_count": 9,
   "metadata": {},
   "outputs": [
    {
     "name": "stdout",
     "output_type": "stream",
     "text": [
      "Le code ne peut pas être décrypté.\n",
      "1\n",
      "Le code ne peut pas être décrypté.\n",
      "Le code ne peut pas être décrypté.\n"
     ]
    }
   ],
   "source": [
    "\n",
    "def main():\n",
    "    T = 4  # Nombre total de cas de test\n",
    "\n",
    "    # Cas de test 1\n",
    "    Xr1, Xi1, Br1, Bi1 = -935, 2475, -11, -15\n",
    "    result1 = decrypter_code_secret(Xr1, Xi1, Br1, Bi1)\n",
    "    print(result1)  \n",
    "\n",
    "    # Cas de test 2\n",
    "    Xr2, Xi2, Br2, Bi2 = 1, 0, -3, -2\n",
    "    result2 = decrypter_code_secret(Xr2, Xi2, Br2, Bi2)\n",
    "    print(result2)  # Affiche \"1\"\n",
    "\n",
    "    # Cas de test 3\n",
    "    Xr3, Xi3, Br3, Bi3 = 93, 16, 3, 2\n",
    "    result3 = decrypter_code_secret(Xr3, Xi3, Br3, Bi3)\n",
    "    print(result3) \n",
    "\n",
    "    # Cas de test 4\n",
    "    Xr4, Xi4, Br4, Bi4 = 191, -192, 11, -12\n",
    "    result4 = decrypter_code_secret(Xr4, Xi4, Br4, Bi4)\n",
    "    print(result4) \n",
    "\n",
    "if __name__ == \"__main__\":\n",
    "    main()"
   ]
  },
  {
   "cell_type": "markdown",
   "metadata": {},
   "source": [
    "### Étape 4: Exécution du code\n",
    "\n",
    "Pour exécuter le code, nous allons suivre les étapes suivantes :\n",
    "\n",
    "1. Lire le nombre total de cas de test $T$ à partir de l'entrée.\n",
    "\n",
    "2. Utiliser une boucle `for` pour itérer sur chaque cas de test, de $1$ à $T$.\n",
    "\n",
    "3. À chaque itération, lire les valeurs Xr, Xi, Br et Bi à partir de l'entrée en utilisant la fonction `input()` et `split()` pour séparer les valeurs.\n",
    "\n",
    "4. Appeler la fonction `decrypter_code_secret(Xr, Xi, Br, Bi)` pour décrypter le code secret pour le cas de test actuel.\n",
    "\n",
    "5. Afficher le résultat obtenu pour chaque cas de test à l'aide de la fonction `print()`.\n",
    "\n",
    "Voici comment cela peut être implémenté dans le code Python complet :\n"
   ]
  },
  {
   "cell_type": "code",
   "execution_count": 1,
   "metadata": {
    "notebookRunGroups": {
     "groupValue": "2"
    }
   },
   "outputs": [],
   "source": [
    "def main1():\n",
    "    #Exécute le programme principal en lisant les données d'entrée et affichant les résultats du décryptage.\n",
    "    \n",
    "    # Lecture du nombre total de cas de test T\n",
    "    T = input(\"Entrez le nombre de cas de tests (T) : \") \n",
    "\n",
    "    # Boucle pour chaque cas de test\n",
    "    for k in range(T):\n",
    "        print(f\"\\nCas de test {k + 1}:\")\n",
    "        # Lire les valeurs Xr, Xi, Br et Bi pour chaque cas de test\n",
    "        Xr, Xi, Br, Bi = map(input(\"Entrez Xr, Xi, Br, Bi : \").split()) \n",
    "\n",
    "        # Appeler la fonction de décryptage \n",
    "        result = decrypter_code_secret(Xr, Xi, Br, Bi) \n",
    "\n",
    "        # Afficher le résultat du décryptage pour ce cas de test\n",
    "        print(f\"Résultat du décryptage : {result}\") \n",
    "\n"
   ]
  },
  {
   "cell_type": "markdown",
   "metadata": {},
   "source": [
    "#  Analyse de la complexité du problème\n",
    "Pour analyser la complexité, nous allons examiner chaque partie du code et estimer le nombre d'opérations effectuées en fonction de la taille des données d'entrée.\n",
    "\n",
    "1. `decrypter_code_secret(Xr, Xi, Br, Bi)` :\n",
    "   * La boucle `while` itère tant que `abs(X) >= 1`, ce qui signifie que le nombre d'itérations dépend de la taille du nombre `X`. La taille de `X` peut être approximée par le nombre de chiffres dans `Xr` et `Xi`.\n",
    "   - À chaque itération de la boucle, nous effectuons les opérations suivantes : calculer `digit = int(X.real % abs(B))` et ajouter `digit` à la liste `digits`.\n",
    "   - Ensuite, nous mettons à jour `X` en effectuant une division : `X = (X - digit) / B`.\n",
    "   - La boucle se termine lorsque `X` devient inférieur à 1 en valeur absolue. Le nombre d'itérations dépend donc du nombre de chiffres dans `Xr` et `Xi`, qui peut être approximé par `max(len(str(Xr)), len(str(Xi)))`.\n",
    "   - Dans chaque itération, les opérations arithmétiques (addition, soustraction, division, modulo) et la mise à jour de la liste `digits` sont des opérations constantes.\n",
    "   - La complexité de cette partie est donc O(max(len(str(Xr)), len(str(Xi)))).\n",
    "\n",
    "2. `precalculate_powers_of_B(B, n)` :\n",
    "   - Cette fonction précalcule les puissances de `B` jusqu'à `n`, où `n` est le nombre maximum d'entiers dans le code (n ≤ 100).\n",
    "   - La boucle `for` itère `n` fois, donc le nombre d'opérations est proportionnel à `n`.\n",
    "   - Dans chaque itération, on effectue une multiplication entre le nombre complexe `power` et `B`.\n",
    "   - La complexité de cette partie est donc linéaire, O(n).\n",
    "\n",
    "3. `main()` :\n",
    "   - La lecture des valeurs d'entrée `Xr, Xi, Br, Bi` pour chaque cas de test est en temps constant, car il s'agit d'une opération indépendante du nombre de cas de test.\n",
    "   - L'appel à la fonction `decrypter_code_secret(Xr, Xi, Br, Bi)` et l'affichage du résultat sont également en temps constant car ils ne dépendent pas du nombre de cas de test.\n",
    "   - Le nombre total d'opérations pour `main()` est proportionnel au nombre de cas de test, c'est-à-dire O(T).\n",
    "\n",
    "En résumé, la complexité de l'algorithme est dominée par la partie `decrypter_code_secret`, qui est O(max(len(str(Xr)), len(str(Xi)))) en fonction de la taille des nombres réels `Xr` et `Xi`. La complexité du précalcul des puissances de `B` est linéaire, O(n), avec une limite de 100 itérations pour le précalcul (n ≤ 100).\n",
    "\n",
    "La complexité globale de l'algorithme est donc O(T * max(len(str(Xr)), len(str(Xi)))) pour les cas de test où T est le nombre total de cas de test. Pour des valeurs raisonnables de T et de `Xr` et `Xi`, l'algorithme devrait être efficace. Cependant, si les nombres `Xr` et `Xi` sont très grands, la complexité dépendra de la taille de ces nombres et peut entraîner des temps d'exécution plus longs."
   ]
  }
 ],
 "metadata": {
  "kernelspec": {
   "display_name": "Python 3",
   "language": "python",
   "name": "python3"
  },
  "language_info": {
   "codemirror_mode": {
    "name": "ipython",
    "version": 3
   },
   "file_extension": ".py",
   "mimetype": "text/x-python",
   "name": "python",
   "nbconvert_exporter": "python",
   "pygments_lexer": "ipython3",
   "version": "3.11.4"
  },
  "orig_nbformat": 4
 },
 "nbformat": 4,
 "nbformat_minor": 2
}
